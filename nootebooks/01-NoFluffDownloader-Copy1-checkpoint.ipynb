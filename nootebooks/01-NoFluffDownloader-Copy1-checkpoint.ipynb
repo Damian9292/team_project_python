{
 "cells": [
  {
   "cell_type": "code",
   "execution_count": 13,
   "metadata": {},
   "outputs": [],
   "source": [
    "# importujemy wymagane biblioteki\n",
    "from time import sleep\n",
    "from datetime import datetime\n",
    "\n",
    "from selenium.webdriver import Firefox\n",
    "from selenium.webdriver.firefox.service import Service\n",
    "\n",
    "from bs4 import BeautifulSoup"
   ]
  },
  {
   "cell_type": "code",
   "execution_count": 14,
   "metadata": {},
   "outputs": [],
   "source": [
    "def download_page(page_number: int, job_name: str) -> BeautifulSoup:\n",
    "    \"\"\"\n",
    "    Wchodzi na stronę oraz pobiera jej całkowitą zawartość\n",
    "    \"\"\"\n",
    "    global browser\n",
    "    url = 'https://nofluffjobs.com/pl/jobs/?criteria=keyword%3D\"{job_name}\"&page={page_number}'\n",
    "\n",
    "    browser.get(url.format(\n",
    "        job_name=job_name,\n",
    "        page_number=page_number)\n",
    "        )\n",
    "    html = browser.page_source\n",
    "\n",
    "    return BeautifulSoup(html)"
   ]
  },
  {
   "cell_type": "code",
   "execution_count": 15,
   "metadata": {},
   "outputs": [],
   "source": [
    "def is_empty_page(page) -> bool:\n",
    "    \"\"\"\n",
    "    Sprawdza czy strona jest pusta\n",
    "    \"\"\"\n",
    "    empty_condition = page.find('h2', class_='font-weight-bold')\n",
    "\n",
    "    if empty_condition is None:\n",
    "        return False\n",
    "    else:\n",
    "        return True"
   ]
  },
  {
   "cell_type": "code",
   "execution_count": 16,
   "metadata": {},
   "outputs": [],
   "source": [
    "def get_job_offers(job_name: str) -> list:\n",
    "    \"\"\"\n",
    "    Pobiera aktualnie dostępne oferty pracy dla danego zapytania\n",
    "\n",
    "    @param job_name: zapytanie, które chcemy przeszukać\n",
    "    @returns: lista ze słownikiem {page - numer strony, job - stanowisko, html - oryginalny html strony}\n",
    "    \"\"\"\n",
    "\n",
    "    results = []  # zmienna informacjami o stronach\n",
    "    page_number = 1\n",
    "\n",
    "    # będziemy wykonywać pętle tak długo, aż nie trafimy na pustą stronę\n",
    "    while True:  \n",
    "        # pobieramy dane dla danego zawodu oraz strony\n",
    "        bs = download_page(\n",
    "            job_name=job_name,\n",
    "            page_number=page_number)\n",
    "        \n",
    "        # sprawdzamy czy strona nie jest pusta\n",
    "        if is_empty_page(bs):\n",
    "            break\n",
    "\n",
    "        # pobieramy informacje o ofertach pracy\n",
    "        results.append({'page': page_number, 'job': job_name, 'html': str(bs)})\n",
    "\n",
    "        page_number += 1  # przechodzimy do kolejnej strony\n",
    "        sleep(5)  # czekamy 5 sekund przed kolejnym odpytaniem\n",
    "\n",
    "    return results"
   ]
  },
  {
   "cell_type": "code",
   "execution_count": 17,
   "metadata": {},
   "outputs": [],
   "source": [
    "jobs = ['data analyst', 'data scientist', 'data engineer']"
   ]
  },
  {
   "cell_type": "code",
   "execution_count": 18,
   "metadata": {
    "tags": []
   },
   "outputs": [],
   "source": [
    "service = Service('../drivers/geckodriver.exe')\n",
    "browser = Firefox(service=service)\n",
    "browser.implicitly_wait(10)\n",
    "\n",
    "# pobieramy dostępne informacje o zawodach\n",
    "data = []\n",
    "for job in jobs:\n",
    "    data += get_job_offers(job)\n",
    "browser.close()"
   ]
  },
  {
   "cell_type": "code",
   "execution_count": 19,
   "metadata": {},
   "outputs": [],
   "source": [
    "dt = datetime.now().strftime(\"%Y%m%d_%H%M%S\")\n",
    "for d in data:\n",
    "    with open(\n",
    "        '../data/raw/{job_name}_{page}_{dt}.html'.format(\n",
    "            job_name=d['job'], \n",
    "            page=d['page'], \n",
    "            dt=dt), \n",
    "        encoding='UTF-8', \n",
    "        mode='w') as f:\n",
    "        f.write(d['html'])"
   ]
  }
 ],
 "metadata": {
  "kernelspec": {
   "display_name": "CodersLab-Warsztat",
   "language": "python",
   "name": "coderslab-warsztat"
  },
  "language_info": {
   "codemirror_mode": {
    "name": "ipython",
    "version": 3
   },
   "file_extension": ".py",
   "mimetype": "text/x-python",
   "name": "python",
   "nbconvert_exporter": "python",
   "pygments_lexer": "ipython3",
   "version": "3.9.2"
  }
 },
 "nbformat": 4,
 "nbformat_minor": 2
}
